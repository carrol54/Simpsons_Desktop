{
 "cells": [
  {
   "cell_type": "code",
   "execution_count": 109,
   "metadata": {},
   "outputs": [],
   "source": [
    "from selenium import webdriver\n",
    "from selenium.webdriver.chrome.options import Options\n",
    "from selenium.webdriver.common.by import By\n",
    "from time import sleep\n",
    "import requests\n",
    "from PIL import Image\n",
    "import os\n",
    "import ctypes, subprocess, platform"
   ]
  },
  {
   "cell_type": "code",
   "execution_count": 3,
   "metadata": {},
   "outputs": [],
   "source": [
    "options = Options()\n",
    "\n",
    "options.add_experimental_option(\"excludeSwitches\", [\"enable-logging\"])\n",
    "driver = webdriver.Chrome(options=options)"
   ]
  },
  {
   "cell_type": "code",
   "execution_count": 4,
   "metadata": {},
   "outputs": [],
   "source": [
    "url = 'https://frinkiac.com/caption/S14E19/828494'"
   ]
  },
  {
   "cell_type": "code",
   "execution_count": 12,
   "metadata": {},
   "outputs": [],
   "source": [
    "driver.get(url)"
   ]
  },
  {
   "cell_type": "code",
   "execution_count": 5,
   "metadata": {},
   "outputs": [],
   "source": [
    "def get_buttons():\n",
    "    buttons = []\n",
    "    for d in driver.find_elements('tag name', 'button'):\n",
    "        buttons.append({\"Name\" : d.text, \"Element\" : d})\n",
    "    return buttons"
   ]
  },
  {
   "cell_type": "code",
   "execution_count": 6,
   "metadata": {},
   "outputs": [],
   "source": [
    "def click_meme_button():\n",
    "    buttons = get_buttons()\n",
    "    for button in buttons:\n",
    "        if button[\"Name\"] == \"MAKE MEME\":\n",
    "            button['Element'].click()"
   ]
  },
  {
   "cell_type": "code",
   "execution_count": 7,
   "metadata": {},
   "outputs": [],
   "source": [
    "def click_random_button():\n",
    "    buttons = get_buttons()\n",
    "    for button in buttons:\n",
    "        if button[\"Name\"] == \"RANDOM\":\n",
    "            button['Element'].click()"
   ]
  },
  {
   "cell_type": "code",
   "execution_count": 8,
   "metadata": {},
   "outputs": [],
   "source": [
    "def return_image():\n",
    "    image = driver.find_elements(By.XPATH, \"\"\"//*[@id=\"app\"]/div/div/div/section/div/div[1]/div/a/img\"\"\")\n",
    "    return(image[0].get_attribute(\"src\"))"
   ]
  },
  {
   "cell_type": "code",
   "execution_count": 89,
   "metadata": {},
   "outputs": [],
   "source": [
    "def download_image(img_url, img_name):\n",
    "    response = requests.get(img_url)\n",
    "    if response.status_code == 200:\n",
    "        with open(img_name + \".jpg\", \"wb\") as f:\n",
    "            f.write(response.content)\n",
    "            print(f\"Successfully saved {f}\")\n",
    "    else:\n",
    "        print(\"Could not download image...\")"
   ]
  },
  {
   "cell_type": "code",
   "execution_count": 90,
   "metadata": {},
   "outputs": [
    {
     "name": "stdout",
     "output_type": "stream",
     "text": [
      "Downloading number 0 : Frinkiac - S03E21 - I DON'T KNOW WHAT TO SAY..\n",
      "Successfully saved <_io.BufferedWriter name=\"Frinkiac - S03E21 - I DON'T KNOW WHAT TO SAY..jpg\">\n",
      "Downloading number 1 : Frinkiac - S08E23 - I DON'T KNOW..\n",
      "Successfully saved <_io.BufferedWriter name=\"Frinkiac - S08E23 - I DON'T KNOW..jpg\">\n"
     ]
    },
    {
     "ename": "KeyboardInterrupt",
     "evalue": "",
     "output_type": "error",
     "traceback": [
      "\u001b[0;31m---------------------------------------------------------------------------\u001b[0m",
      "\u001b[0;31mKeyboardInterrupt\u001b[0m                         Traceback (most recent call last)",
      "Cell \u001b[0;32mIn[90], line 8\u001b[0m\n\u001b[1;32m      6\u001b[0m \u001b[38;5;28mprint\u001b[39m(\u001b[38;5;124mf\u001b[39m\u001b[38;5;124m\"\u001b[39m\u001b[38;5;124mDownloading number \u001b[39m\u001b[38;5;132;01m{\u001b[39;00mx\u001b[38;5;132;01m}\u001b[39;00m\u001b[38;5;124m : \u001b[39m\u001b[38;5;132;01m{\u001b[39;00mdriver\u001b[38;5;241m.\u001b[39mtitle\u001b[38;5;132;01m}\u001b[39;00m\u001b[38;5;124m.\u001b[39m\u001b[38;5;124m\"\u001b[39m)\n\u001b[1;32m      7\u001b[0m download_image(return_image(), driver\u001b[38;5;241m.\u001b[39mtitle)\n\u001b[0;32m----> 8\u001b[0m \u001b[43msleep\u001b[49m\u001b[43m(\u001b[49m\u001b[38;5;241;43m1\u001b[39;49m\u001b[43m)\u001b[49m\n",
      "\u001b[0;31mKeyboardInterrupt\u001b[0m: "
     ]
    }
   ],
   "source": [
    "for x in range(10):\n",
    "    click_random_button()\n",
    "    sleep(1)\n",
    "    click_meme_button()\n",
    "    sleep(1)\n",
    "    print(f\"Downloading number {x} : {driver.title}.\")\n",
    "    download_image(return_image(), driver.title)\n",
    "    sleep(1)"
   ]
  },
  {
   "cell_type": "code",
   "execution_count": 112,
   "metadata": {},
   "outputs": [],
   "source": [
    "def create_wallpaper(img, new_name):\n",
    "    default_image = Image.open(\"tv_set.jpeg\")\n",
    "    image_to_paste = Image.open(img)\n",
    "\n",
    "    # Dimensions of the white-out area in the template\n",
    "    whiteout_width = 495\n",
    "    whiteout_height = 305\n",
    "\n",
    "    # Desired placement coordinates within the white-out area\n",
    "    desired_x = 100\n",
    "    desired_y = 50\n",
    "\n",
    "    # Adjust the placement coordinates for pasting based on the white-out area dimensions\n",
    "    adjusted_x = desired_x - (whiteout_width // 2)  # Adjust horizontally by half of the width\n",
    "    adjusted_y = desired_y - (whiteout_height // 2)  # Adjust vertically by half of the height\n",
    "\n",
    "    #Resize the image to paste, paste it onto the tv set\n",
    "    image_to_paste = image_to_paste.resize((whiteout_width, whiteout_height), Image.ANTIALIAS)\n",
    "    default_image.paste(image_to_paste, (130, 75))\n",
    "\n",
    "    #Save as wallpaper file\n",
    "    default_image.save(new_name + '.png')\n"
   ]
  },
  {
   "cell_type": "code",
   "execution_count": 113,
   "metadata": {},
   "outputs": [
    {
     "name": "stderr",
     "output_type": "stream",
     "text": [
      "/var/folders/g4/kfr0g21d2js5ts383m8n5g1xwk9v01/T/ipykernel_56772/252321515.py:18: DeprecationWarning: ANTIALIAS is deprecated and will be removed in Pillow 10 (2023-07-01). Use LANCZOS or Resampling.LANCZOS instead.\n",
      "  image_to_paste = image_to_paste.resize((whiteout_width, whiteout_height), Image.ANTIALIAS)\n"
     ]
    }
   ],
   "source": [
    "create_wallpaper(\"Frinkiac - Movie - - Bart. - I promise, I'll stop tomorrow..jpg\", \"test\")"
   ]
  },
  {
   "cell_type": "code",
   "execution_count": 94,
   "metadata": {},
   "outputs": [],
   "source": [
    "def windows_change_wallpaper(file_path):\n",
    "    wallpaper_path = os.path.abspath(file_path)\n",
    "    ctypes.windll.user32.SystemParametersInfoW(20, 0, wallpaper_path, 3)\n",
    "    print(\"Wallpaper changed!\")"
   ]
  },
  {
   "cell_type": "code",
   "execution_count": 105,
   "metadata": {},
   "outputs": [],
   "source": [
    "def apple_change_wallpaper(file_path):\n",
    "    wallpaper_path = os.path.abspath(file_path)\n",
    "    script = f'tell application \"Finder\" to set desktop picture to POSIX file \"{wallpaper_path}\"'\n",
    "    subprocess.run(['osascript', '-e', script])\n",
    "    print(\"Wallpaper changed!\")"
   ]
  },
  {
   "cell_type": "code",
   "execution_count": 120,
   "metadata": {},
   "outputs": [
    {
     "data": {
      "text/plain": [
       "['frinkiac_download_images.py',\n",
       " '.DS_Store',\n",
       " 'change_wallpaper.py',\n",
       " '665147.jpg',\n",
       " 'frinkiac_download_and_change.py',\n",
       " 'frinkiac_test.ipynb',\n",
       " 'tv_set.jpeg']"
      ]
     },
     "execution_count": 120,
     "metadata": {},
     "output_type": "execute_result"
    }
   ],
   "source": [
    "os.listdir()"
   ]
  },
  {
   "cell_type": "code",
   "execution_count": null,
   "metadata": {},
   "outputs": [],
   "source": []
  },
  {
   "cell_type": "code",
   "execution_count": null,
   "metadata": {},
   "outputs": [],
   "source": []
  },
  {
   "cell_type": "code",
   "execution_count": null,
   "metadata": {},
   "outputs": [],
   "source": []
  },
  {
   "cell_type": "code",
   "execution_count": 121,
   "metadata": {},
   "outputs": [
    {
     "name": "stdout",
     "output_type": "stream",
     "text": [
      "Wallpaper changed!\n"
     ]
    },
    {
     "name": "stderr",
     "output_type": "stream",
     "text": [
      "33:48: execution error: Finder got an error: AppleEvent handler failed. (-10000)\n"
     ]
    }
   ],
   "source": []
  },
  {
   "cell_type": "code",
   "execution_count": 119,
   "metadata": {},
   "outputs": [
    {
     "name": "stdout",
     "output_type": "stream",
     "text": [
      "Downloading number 1 : Frinkiac - S11E15 - AS TRUE TODAY AS IT WAS WHEN IT WAS WRITTEN..\n",
      "Successfully saved <_io.BufferedWriter name='Frinkiac - S11E15 - AS TRUE TODAY AS IT WAS WHEN IT WAS WRITTEN..jpg'>\n"
     ]
    },
    {
     "name": "stderr",
     "output_type": "stream",
     "text": [
      "/var/folders/g4/kfr0g21d2js5ts383m8n5g1xwk9v01/T/ipykernel_56772/252321515.py:18: DeprecationWarning: ANTIALIAS is deprecated and will be removed in Pillow 10 (2023-07-01). Use LANCZOS or Resampling.LANCZOS instead.\n",
      "  image_to_paste = image_to_paste.resize((whiteout_width, whiteout_height), Image.ANTIALIAS)\n"
     ]
    },
    {
     "name": "stdout",
     "output_type": "stream",
     "text": [
      "Wallpaper changed!\n",
      "Downloading number 1 : Frinkiac - S07E20 - 25 YEARS OLD?.\n",
      "Successfully saved <_io.BufferedWriter name='Frinkiac - S07E20 - 25 YEARS OLD?.jpg'>\n"
     ]
    },
    {
     "name": "stderr",
     "output_type": "stream",
     "text": [
      "/var/folders/g4/kfr0g21d2js5ts383m8n5g1xwk9v01/T/ipykernel_56772/252321515.py:18: DeprecationWarning: ANTIALIAS is deprecated and will be removed in Pillow 10 (2023-07-01). Use LANCZOS or Resampling.LANCZOS instead.\n",
      "  image_to_paste = image_to_paste.resize((whiteout_width, whiteout_height), Image.ANTIALIAS)\n"
     ]
    },
    {
     "name": "stdout",
     "output_type": "stream",
     "text": [
      "Wallpaper changed!\n",
      "Downloading number 1 : Frinkiac - S11E10 - NO ONE'S QUESTIONING THE HAT..\n",
      "Successfully saved <_io.BufferedWriter name=\"Frinkiac - S11E10 - NO ONE'S QUESTIONING THE HAT..jpg\">\n"
     ]
    },
    {
     "name": "stderr",
     "output_type": "stream",
     "text": [
      "/var/folders/g4/kfr0g21d2js5ts383m8n5g1xwk9v01/T/ipykernel_56772/252321515.py:18: DeprecationWarning: ANTIALIAS is deprecated and will be removed in Pillow 10 (2023-07-01). Use LANCZOS or Resampling.LANCZOS instead.\n",
      "  image_to_paste = image_to_paste.resize((whiteout_width, whiteout_height), Image.ANTIALIAS)\n"
     ]
    },
    {
     "name": "stdout",
     "output_type": "stream",
     "text": [
      "Wallpaper changed!\n",
      "Downloading number 1 : Frinkiac - S08E20 - HEY, BURGLAR!.\n",
      "Successfully saved <_io.BufferedWriter name='Frinkiac - S08E20 - HEY, BURGLAR!.jpg'>\n"
     ]
    },
    {
     "name": "stderr",
     "output_type": "stream",
     "text": [
      "/var/folders/g4/kfr0g21d2js5ts383m8n5g1xwk9v01/T/ipykernel_56772/252321515.py:18: DeprecationWarning: ANTIALIAS is deprecated and will be removed in Pillow 10 (2023-07-01). Use LANCZOS or Resampling.LANCZOS instead.\n",
      "  image_to_paste = image_to_paste.resize((whiteout_width, whiteout_height), Image.ANTIALIAS)\n"
     ]
    },
    {
     "name": "stdout",
     "output_type": "stream",
     "text": [
      "Wallpaper changed!\n",
      "Downloading number 1 : Frinkiac - S02E16 - Good for you, pal..\n",
      "Successfully saved <_io.BufferedWriter name='Frinkiac - S02E16 - Good for you, pal..jpg'>\n"
     ]
    },
    {
     "name": "stderr",
     "output_type": "stream",
     "text": [
      "/var/folders/g4/kfr0g21d2js5ts383m8n5g1xwk9v01/T/ipykernel_56772/252321515.py:18: DeprecationWarning: ANTIALIAS is deprecated and will be removed in Pillow 10 (2023-07-01). Use LANCZOS or Resampling.LANCZOS instead.\n",
      "  image_to_paste = image_to_paste.resize((whiteout_width, whiteout_height), Image.ANTIALIAS)\n"
     ]
    },
    {
     "name": "stdout",
     "output_type": "stream",
     "text": [
      "Wallpaper changed!\n",
      "Downloading number 1 : Frinkiac - S03E06 - I just wanted....\n",
      "Successfully saved <_io.BufferedWriter name='Frinkiac - S03E06 - I just wanted....jpg'>\n"
     ]
    },
    {
     "name": "stderr",
     "output_type": "stream",
     "text": [
      "/var/folders/g4/kfr0g21d2js5ts383m8n5g1xwk9v01/T/ipykernel_56772/252321515.py:18: DeprecationWarning: ANTIALIAS is deprecated and will be removed in Pillow 10 (2023-07-01). Use LANCZOS or Resampling.LANCZOS instead.\n",
      "  image_to_paste = image_to_paste.resize((whiteout_width, whiteout_height), Image.ANTIALIAS)\n"
     ]
    },
    {
     "name": "stdout",
     "output_type": "stream",
     "text": [
      "Wallpaper changed!\n",
      "Downloading number 1 : Frinkiac - S09E25 - TO EXPRESS THEIR LOVE..\n",
      "Successfully saved <_io.BufferedWriter name='Frinkiac - S09E25 - TO EXPRESS THEIR LOVE..jpg'>\n"
     ]
    },
    {
     "name": "stderr",
     "output_type": "stream",
     "text": [
      "/var/folders/g4/kfr0g21d2js5ts383m8n5g1xwk9v01/T/ipykernel_56772/252321515.py:18: DeprecationWarning: ANTIALIAS is deprecated and will be removed in Pillow 10 (2023-07-01). Use LANCZOS or Resampling.LANCZOS instead.\n",
      "  image_to_paste = image_to_paste.resize((whiteout_width, whiteout_height), Image.ANTIALIAS)\n"
     ]
    },
    {
     "name": "stdout",
     "output_type": "stream",
     "text": [
      "Wallpaper changed!\n",
      "Downloading number 1 : Frinkiac - S05E09 - BYE, JOEY JO-JO! OH, WHAT THE HELL? IT'S ME..\n",
      "Successfully saved <_io.BufferedWriter name=\"Frinkiac - S05E09 - BYE, JOEY JO-JO! OH, WHAT THE HELL? IT'S ME..jpg\">\n"
     ]
    },
    {
     "name": "stderr",
     "output_type": "stream",
     "text": [
      "/var/folders/g4/kfr0g21d2js5ts383m8n5g1xwk9v01/T/ipykernel_56772/252321515.py:18: DeprecationWarning: ANTIALIAS is deprecated and will be removed in Pillow 10 (2023-07-01). Use LANCZOS or Resampling.LANCZOS instead.\n",
      "  image_to_paste = image_to_paste.resize((whiteout_width, whiteout_height), Image.ANTIALIAS)\n"
     ]
    },
    {
     "name": "stdout",
     "output_type": "stream",
     "text": [
      "Wallpaper changed!\n"
     ]
    },
    {
     "ename": "KeyboardInterrupt",
     "evalue": "",
     "output_type": "error",
     "traceback": [
      "\u001b[0;31m---------------------------------------------------------------------------\u001b[0m",
      "\u001b[0;31mKeyboardInterrupt\u001b[0m                         Traceback (most recent call last)",
      "Cell \u001b[0;32mIn[119], line 18\u001b[0m\n\u001b[1;32m     16\u001b[0m \u001b[38;5;28;01mwhile\u001b[39;00m \u001b[38;5;28;01mTrue\u001b[39;00m:\n\u001b[1;32m     17\u001b[0m     click_random_button()\n\u001b[0;32m---> 18\u001b[0m     sleep(time\u001b[38;5;241m/\u001b[39m\u001b[38;5;241m3\u001b[39m)\n\u001b[1;32m     19\u001b[0m     click_meme_button()\n\u001b[1;32m     20\u001b[0m     sleep(time\u001b[38;5;241m/\u001b[39m\u001b[38;5;241m3\u001b[39m)\n",
      "\u001b[0;31mKeyboardInterrupt\u001b[0m: "
     ]
    }
   ],
   "source": [
    "if __name__ == '__main__':\n",
    "    #Hard coded frequency, by default set to 1 minute\n",
    "    time = 3\n",
    "    #Set up driver\n",
    "    options = Options()\n",
    "    options.add_experimental_option(\"excludeSwitches\", [\"enable-logging\"])\n",
    "    driver = webdriver.Chrome(options=options)\n",
    "    url = 'https://frinkiac.com/caption/S14E19/828494'\n",
    "    driver.get(url)\n",
    "    #Variable for file names\n",
    "    wallpaper_name = 0\n",
    "    #OS Check\n",
    "    os_name = platform.system()\n",
    "    if os_name == \"Darwin\":\n",
    "        #Mac\n",
    "        while True:\n",
    "            click_random_button()\n",
    "            sleep(time/3)\n",
    "            click_meme_button()\n",
    "            sleep(time/3)\n",
    "            print(f\"Downloading number {x} : {driver.title}.\")\n",
    "            download_image(return_image(), driver.title)\n",
    "            sleep(time/3)\n",
    "            create_wallpaper(driver.title + \".jpg\", str(wallpaper_name))\n",
    "            apple_change_wallpaper(str(wallpaper_name) + \".png\")\n",
    "            wallpaper_name += 1\n",
    "\n",
    "\n",
    "    elif os_name == \"Windows\":\n",
    "        #Winders\n",
    "        while True:\n",
    "            click_random_button()\n",
    "            sleep(time/3)\n",
    "            click_meme_button()\n",
    "            sleep(time/3)\n",
    "            print(f\"Downloading number {x} : {driver.title}.\")\n",
    "            download_image(return_image(), driver.title)\n",
    "            sleep(time/3)\n",
    "            create_wallpaper(driver.title + \".jpg\", str(wallpaper_name))\n",
    "            windows_change_wallpaper(str(wallpaper_name) + \".png\")\n",
    "            \n",
    "    else:\n",
    "        print(\"Failed\")"
   ]
  },
  {
   "cell_type": "code",
   "execution_count": 111,
   "metadata": {},
   "outputs": [
    {
     "name": "stdout",
     "output_type": "stream",
     "text": [
      "Darwin\n"
     ]
    }
   ],
   "source": [
    "\n",
    "    os_name = platform.system()\n",
    "    print(os_name)\n"
   ]
  },
  {
   "cell_type": "code",
   "execution_count": null,
   "metadata": {},
   "outputs": [],
   "source": []
  }
 ],
 "metadata": {
  "kernelspec": {
   "display_name": "Python 3",
   "language": "python",
   "name": "python3"
  },
  "language_info": {
   "codemirror_mode": {
    "name": "ipython",
    "version": 3
   },
   "file_extension": ".py",
   "mimetype": "text/x-python",
   "name": "python",
   "nbconvert_exporter": "python",
   "pygments_lexer": "ipython3",
   "version": "3.11.1"
  }
 },
 "nbformat": 4,
 "nbformat_minor": 2
}
